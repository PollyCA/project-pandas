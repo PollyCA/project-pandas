{
 "cells": [
  {
   "cell_type": "markdown",
   "id": "statutory-denial",
   "metadata": {},
   "source": [
    "# Proyecto 3 "
   ]
  },
  {
   "cell_type": "markdown",
   "id": "egyptian-significance",
   "metadata": {},
   "source": [
    "Importando ando"
   ]
  },
  {
   "cell_type": "code",
   "execution_count": 8,
   "id": "psychological-presence",
   "metadata": {},
   "outputs": [],
   "source": [
    "import pandas as pd\n",
    "import numpy as np\n",
    "import re\n",
    "import datetime as dt\n",
    "import matplotlib.pyplot as plt"
   ]
  },
  {
   "cell_type": "code",
   "execution_count": 9,
   "id": "baking-oklahoma",
   "metadata": {},
   "outputs": [],
   "source": [
    "sharks=pd.read_csv('attacks.csv', encoding = 'latin-1')"
   ]
  },
  {
   "cell_type": "markdown",
   "id": "blond-teens",
   "metadata": {},
   "source": [
    "Iniciaré explorando un poquito y paso a pasito porque si no me pierdo..."
   ]
  },
  {
   "cell_type": "code",
   "execution_count": 10,
   "id": "criminal-infection",
   "metadata": {},
   "outputs": [
    {
     "data": {
      "text/html": [
       "<div>\n",
       "<style scoped>\n",
       "    .dataframe tbody tr th:only-of-type {\n",
       "        vertical-align: middle;\n",
       "    }\n",
       "\n",
       "    .dataframe tbody tr th {\n",
       "        vertical-align: top;\n",
       "    }\n",
       "\n",
       "    .dataframe thead th {\n",
       "        text-align: right;\n",
       "    }\n",
       "</style>\n",
       "<table border=\"1\" class=\"dataframe\">\n",
       "  <thead>\n",
       "    <tr style=\"text-align: right;\">\n",
       "      <th></th>\n",
       "      <th>Case Number</th>\n",
       "      <th>Date</th>\n",
       "      <th>Year</th>\n",
       "      <th>Type</th>\n",
       "      <th>Country</th>\n",
       "      <th>Area</th>\n",
       "      <th>Location</th>\n",
       "      <th>Activity</th>\n",
       "      <th>Name</th>\n",
       "      <th>Sex</th>\n",
       "      <th>...</th>\n",
       "      <th>Species</th>\n",
       "      <th>Investigator or Source</th>\n",
       "      <th>pdf</th>\n",
       "      <th>href formula</th>\n",
       "      <th>href</th>\n",
       "      <th>Case Number.1</th>\n",
       "      <th>Case Number.2</th>\n",
       "      <th>original order</th>\n",
       "      <th>Unnamed: 22</th>\n",
       "      <th>Unnamed: 23</th>\n",
       "    </tr>\n",
       "  </thead>\n",
       "  <tbody>\n",
       "    <tr>\n",
       "      <th>0</th>\n",
       "      <td>2018.06.25</td>\n",
       "      <td>25-Jun-2018</td>\n",
       "      <td>2018.0</td>\n",
       "      <td>Boating</td>\n",
       "      <td>USA</td>\n",
       "      <td>California</td>\n",
       "      <td>Oceanside, San Diego County</td>\n",
       "      <td>Paddling</td>\n",
       "      <td>Julie Wolfe</td>\n",
       "      <td>F</td>\n",
       "      <td>...</td>\n",
       "      <td>White shark</td>\n",
       "      <td>R. Collier, GSAF</td>\n",
       "      <td>2018.06.25-Wolfe.pdf</td>\n",
       "      <td>http://sharkattackfile.net/spreadsheets/pdf_di...</td>\n",
       "      <td>http://sharkattackfile.net/spreadsheets/pdf_di...</td>\n",
       "      <td>2018.06.25</td>\n",
       "      <td>2018.06.25</td>\n",
       "      <td>6303.0</td>\n",
       "      <td>NaN</td>\n",
       "      <td>NaN</td>\n",
       "    </tr>\n",
       "    <tr>\n",
       "      <th>1</th>\n",
       "      <td>2018.06.18</td>\n",
       "      <td>18-Jun-2018</td>\n",
       "      <td>2018.0</td>\n",
       "      <td>Unprovoked</td>\n",
       "      <td>USA</td>\n",
       "      <td>Georgia</td>\n",
       "      <td>St. Simon Island, Glynn County</td>\n",
       "      <td>Standing</td>\n",
       "      <td>Adyson McNeely</td>\n",
       "      <td>F</td>\n",
       "      <td>...</td>\n",
       "      <td>NaN</td>\n",
       "      <td>K.McMurray, TrackingSharks.com</td>\n",
       "      <td>2018.06.18-McNeely.pdf</td>\n",
       "      <td>http://sharkattackfile.net/spreadsheets/pdf_di...</td>\n",
       "      <td>http://sharkattackfile.net/spreadsheets/pdf_di...</td>\n",
       "      <td>2018.06.18</td>\n",
       "      <td>2018.06.18</td>\n",
       "      <td>6302.0</td>\n",
       "      <td>NaN</td>\n",
       "      <td>NaN</td>\n",
       "    </tr>\n",
       "    <tr>\n",
       "      <th>2</th>\n",
       "      <td>2018.06.09</td>\n",
       "      <td>09-Jun-2018</td>\n",
       "      <td>2018.0</td>\n",
       "      <td>Invalid</td>\n",
       "      <td>USA</td>\n",
       "      <td>Hawaii</td>\n",
       "      <td>Habush, Oahu</td>\n",
       "      <td>Surfing</td>\n",
       "      <td>John Denges</td>\n",
       "      <td>M</td>\n",
       "      <td>...</td>\n",
       "      <td>NaN</td>\n",
       "      <td>K.McMurray, TrackingSharks.com</td>\n",
       "      <td>2018.06.09-Denges.pdf</td>\n",
       "      <td>http://sharkattackfile.net/spreadsheets/pdf_di...</td>\n",
       "      <td>http://sharkattackfile.net/spreadsheets/pdf_di...</td>\n",
       "      <td>2018.06.09</td>\n",
       "      <td>2018.06.09</td>\n",
       "      <td>6301.0</td>\n",
       "      <td>NaN</td>\n",
       "      <td>NaN</td>\n",
       "    </tr>\n",
       "    <tr>\n",
       "      <th>3</th>\n",
       "      <td>2018.06.08</td>\n",
       "      <td>08-Jun-2018</td>\n",
       "      <td>2018.0</td>\n",
       "      <td>Unprovoked</td>\n",
       "      <td>AUSTRALIA</td>\n",
       "      <td>New South Wales</td>\n",
       "      <td>Arrawarra Headland</td>\n",
       "      <td>Surfing</td>\n",
       "      <td>male</td>\n",
       "      <td>M</td>\n",
       "      <td>...</td>\n",
       "      <td>2 m shark</td>\n",
       "      <td>B. Myatt, GSAF</td>\n",
       "      <td>2018.06.08-Arrawarra.pdf</td>\n",
       "      <td>http://sharkattackfile.net/spreadsheets/pdf_di...</td>\n",
       "      <td>http://sharkattackfile.net/spreadsheets/pdf_di...</td>\n",
       "      <td>2018.06.08</td>\n",
       "      <td>2018.06.08</td>\n",
       "      <td>6300.0</td>\n",
       "      <td>NaN</td>\n",
       "      <td>NaN</td>\n",
       "    </tr>\n",
       "    <tr>\n",
       "      <th>4</th>\n",
       "      <td>2018.06.04</td>\n",
       "      <td>04-Jun-2018</td>\n",
       "      <td>2018.0</td>\n",
       "      <td>Provoked</td>\n",
       "      <td>MEXICO</td>\n",
       "      <td>Colima</td>\n",
       "      <td>La Ticla</td>\n",
       "      <td>Free diving</td>\n",
       "      <td>Gustavo Ramos</td>\n",
       "      <td>M</td>\n",
       "      <td>...</td>\n",
       "      <td>Tiger shark, 3m</td>\n",
       "      <td>A .Kipper</td>\n",
       "      <td>2018.06.04-Ramos.pdf</td>\n",
       "      <td>http://sharkattackfile.net/spreadsheets/pdf_di...</td>\n",
       "      <td>http://sharkattackfile.net/spreadsheets/pdf_di...</td>\n",
       "      <td>2018.06.04</td>\n",
       "      <td>2018.06.04</td>\n",
       "      <td>6299.0</td>\n",
       "      <td>NaN</td>\n",
       "      <td>NaN</td>\n",
       "    </tr>\n",
       "  </tbody>\n",
       "</table>\n",
       "<p>5 rows × 24 columns</p>\n",
       "</div>"
      ],
      "text/plain": [
       "  Case Number         Date    Year        Type    Country             Area  \\\n",
       "0  2018.06.25  25-Jun-2018  2018.0     Boating        USA       California   \n",
       "1  2018.06.18  18-Jun-2018  2018.0  Unprovoked        USA          Georgia   \n",
       "2  2018.06.09  09-Jun-2018  2018.0     Invalid        USA           Hawaii   \n",
       "3  2018.06.08  08-Jun-2018  2018.0  Unprovoked  AUSTRALIA  New South Wales   \n",
       "4  2018.06.04  04-Jun-2018  2018.0    Provoked     MEXICO           Colima   \n",
       "\n",
       "                         Location     Activity             Name Sex   ...  \\\n",
       "0     Oceanside, San Diego County     Paddling      Julie Wolfe    F  ...   \n",
       "1  St. Simon Island, Glynn County     Standing  Adyson McNeely     F  ...   \n",
       "2                    Habush, Oahu      Surfing      John Denges    M  ...   \n",
       "3              Arrawarra Headland      Surfing             male    M  ...   \n",
       "4                        La Ticla  Free diving   Gustavo Ramos     M  ...   \n",
       "\n",
       "          Species           Investigator or Source                       pdf  \\\n",
       "0      White shark                R. Collier, GSAF      2018.06.25-Wolfe.pdf   \n",
       "1              NaN  K.McMurray, TrackingSharks.com    2018.06.18-McNeely.pdf   \n",
       "2              NaN  K.McMurray, TrackingSharks.com     2018.06.09-Denges.pdf   \n",
       "3        2 m shark                  B. Myatt, GSAF  2018.06.08-Arrawarra.pdf   \n",
       "4  Tiger shark, 3m                       A .Kipper      2018.06.04-Ramos.pdf   \n",
       "\n",
       "                                        href formula  \\\n",
       "0  http://sharkattackfile.net/spreadsheets/pdf_di...   \n",
       "1  http://sharkattackfile.net/spreadsheets/pdf_di...   \n",
       "2  http://sharkattackfile.net/spreadsheets/pdf_di...   \n",
       "3  http://sharkattackfile.net/spreadsheets/pdf_di...   \n",
       "4  http://sharkattackfile.net/spreadsheets/pdf_di...   \n",
       "\n",
       "                                                href Case Number.1  \\\n",
       "0  http://sharkattackfile.net/spreadsheets/pdf_di...    2018.06.25   \n",
       "1  http://sharkattackfile.net/spreadsheets/pdf_di...    2018.06.18   \n",
       "2  http://sharkattackfile.net/spreadsheets/pdf_di...    2018.06.09   \n",
       "3  http://sharkattackfile.net/spreadsheets/pdf_di...    2018.06.08   \n",
       "4  http://sharkattackfile.net/spreadsheets/pdf_di...    2018.06.04   \n",
       "\n",
       "  Case Number.2 original order Unnamed: 22 Unnamed: 23  \n",
       "0    2018.06.25         6303.0         NaN         NaN  \n",
       "1    2018.06.18         6302.0         NaN         NaN  \n",
       "2    2018.06.09         6301.0         NaN         NaN  \n",
       "3    2018.06.08         6300.0         NaN         NaN  \n",
       "4    2018.06.04         6299.0         NaN         NaN  \n",
       "\n",
       "[5 rows x 24 columns]"
      ]
     },
     "execution_count": 10,
     "metadata": {},
     "output_type": "execute_result"
    }
   ],
   "source": [
    "sharks.head(5)"
   ]
  },
  {
   "cell_type": "markdown",
   "id": "former-tyler",
   "metadata": {},
   "source": [
    "# Iniciemos limpieza de datos ->"
   ]
  },
  {
   "cell_type": "markdown",
   "id": "chinese-drink",
   "metadata": {},
   "source": [
    "1- Iniciamos observando el shape del dataframe"
   ]
  },
  {
   "cell_type": "code",
   "execution_count": 11,
   "id": "responsible-feature",
   "metadata": {},
   "outputs": [
    {
     "data": {
      "text/plain": [
       "(25723, 24)"
      ]
     },
     "execution_count": 11,
     "metadata": {},
     "output_type": "execute_result"
    }
   ],
   "source": [
    "sharks.shape"
   ]
  },
  {
   "cell_type": "markdown",
   "id": "continental-regard",
   "metadata": {},
   "source": [
    "2- Ahora nuestras columnas"
   ]
  },
  {
   "cell_type": "code",
   "execution_count": 12,
   "id": "auburn-surveillance",
   "metadata": {},
   "outputs": [
    {
     "data": {
      "text/plain": [
       "Index(['Case Number', 'Date', 'Year', 'Type', 'Country', 'Area', 'Location',\n",
       "       'Activity', 'Name', 'Sex ', 'Age', 'Injury', 'Fatal (Y/N)', 'Time',\n",
       "       'Species ', 'Investigator or Source', 'pdf', 'href formula', 'href',\n",
       "       'Case Number.1', 'Case Number.2', 'original order', 'Unnamed: 22',\n",
       "       'Unnamed: 23'],\n",
       "      dtype='object')"
      ]
     },
     "execution_count": 12,
     "metadata": {},
     "output_type": "execute_result"
    }
   ],
   "source": [
    "sharks.columns"
   ]
  },
  {
   "cell_type": "markdown",
   "id": "overall-filling",
   "metadata": {},
   "source": [
    "3- Eliminaré algunas de ellas que no ocuparé"
   ]
  },
  {
   "cell_type": "code",
   "execution_count": 13,
   "id": "chubby-yugoslavia",
   "metadata": {},
   "outputs": [],
   "source": [
    "sharks.drop(columns=['Case Number','Investigator or Source','Name','href formula','href','original order', 'Unnamed: 22',\n",
    "       'Unnamed: 23', 'pdf','Area','Age','Sex ','Location','Case Number.1', 'Case Number.2','Species ','Time','Country'],inplace=True)"
   ]
  },
  {
   "cell_type": "code",
   "execution_count": 14,
   "id": "massive-tract",
   "metadata": {},
   "outputs": [
    {
     "data": {
      "text/html": [
       "<div>\n",
       "<style scoped>\n",
       "    .dataframe tbody tr th:only-of-type {\n",
       "        vertical-align: middle;\n",
       "    }\n",
       "\n",
       "    .dataframe tbody tr th {\n",
       "        vertical-align: top;\n",
       "    }\n",
       "\n",
       "    .dataframe thead th {\n",
       "        text-align: right;\n",
       "    }\n",
       "</style>\n",
       "<table border=\"1\" class=\"dataframe\">\n",
       "  <thead>\n",
       "    <tr style=\"text-align: right;\">\n",
       "      <th></th>\n",
       "      <th>Date</th>\n",
       "      <th>Year</th>\n",
       "      <th>Type</th>\n",
       "      <th>Activity</th>\n",
       "      <th>Injury</th>\n",
       "      <th>Fatal (Y/N)</th>\n",
       "    </tr>\n",
       "  </thead>\n",
       "  <tbody>\n",
       "    <tr>\n",
       "      <th>0</th>\n",
       "      <td>25-Jun-2018</td>\n",
       "      <td>2018.0</td>\n",
       "      <td>Boating</td>\n",
       "      <td>Paddling</td>\n",
       "      <td>No injury to occupant, outrigger canoe and pad...</td>\n",
       "      <td>N</td>\n",
       "    </tr>\n",
       "    <tr>\n",
       "      <th>1</th>\n",
       "      <td>18-Jun-2018</td>\n",
       "      <td>2018.0</td>\n",
       "      <td>Unprovoked</td>\n",
       "      <td>Standing</td>\n",
       "      <td>Minor injury to left thigh</td>\n",
       "      <td>N</td>\n",
       "    </tr>\n",
       "    <tr>\n",
       "      <th>2</th>\n",
       "      <td>09-Jun-2018</td>\n",
       "      <td>2018.0</td>\n",
       "      <td>Invalid</td>\n",
       "      <td>Surfing</td>\n",
       "      <td>Injury to left lower leg from surfboard skeg</td>\n",
       "      <td>N</td>\n",
       "    </tr>\n",
       "    <tr>\n",
       "      <th>3</th>\n",
       "      <td>08-Jun-2018</td>\n",
       "      <td>2018.0</td>\n",
       "      <td>Unprovoked</td>\n",
       "      <td>Surfing</td>\n",
       "      <td>Minor injury to lower leg</td>\n",
       "      <td>N</td>\n",
       "    </tr>\n",
       "    <tr>\n",
       "      <th>4</th>\n",
       "      <td>04-Jun-2018</td>\n",
       "      <td>2018.0</td>\n",
       "      <td>Provoked</td>\n",
       "      <td>Free diving</td>\n",
       "      <td>Lacerations to leg &amp; hand shark PROVOKED INCIDENT</td>\n",
       "      <td>N</td>\n",
       "    </tr>\n",
       "  </tbody>\n",
       "</table>\n",
       "</div>"
      ],
      "text/plain": [
       "          Date    Year        Type     Activity  \\\n",
       "0  25-Jun-2018  2018.0     Boating     Paddling   \n",
       "1  18-Jun-2018  2018.0  Unprovoked     Standing   \n",
       "2  09-Jun-2018  2018.0     Invalid      Surfing   \n",
       "3  08-Jun-2018  2018.0  Unprovoked      Surfing   \n",
       "4  04-Jun-2018  2018.0    Provoked  Free diving   \n",
       "\n",
       "                                              Injury Fatal (Y/N)  \n",
       "0  No injury to occupant, outrigger canoe and pad...           N  \n",
       "1                         Minor injury to left thigh           N  \n",
       "2       Injury to left lower leg from surfboard skeg           N  \n",
       "3                          Minor injury to lower leg           N  \n",
       "4  Lacerations to leg & hand shark PROVOKED INCIDENT           N  "
      ]
     },
     "execution_count": 14,
     "metadata": {},
     "output_type": "execute_result"
    }
   ],
   "source": [
    "sharks.head(5)"
   ]
  },
  {
   "cell_type": "markdown",
   "id": "diverse-share",
   "metadata": {},
   "source": [
    "Hemos logrado que se vea algo más limpio y entendible (a mí parecer) aunque aún falta un largo camino."
   ]
  },
  {
   "cell_type": "markdown",
   "id": "stainless-thomas",
   "metadata": {},
   "source": [
    "# Trabajaremos con lo valores nulos para practicar"
   ]
  },
  {
   "cell_type": "markdown",
   "id": "acoustic-cycle",
   "metadata": {},
   "source": [
    "1-¿Cuántos valores nulos tenemos?"
   ]
  },
  {
   "cell_type": "code",
   "execution_count": 15,
   "id": "improved-clause",
   "metadata": {},
   "outputs": [
    {
     "data": {
      "text/plain": [
       "Date           19421\n",
       "Year           19423\n",
       "Type           19425\n",
       "Activity       19965\n",
       "Injury         19449\n",
       "Fatal (Y/N)    19960\n",
       "dtype: int64"
      ]
     },
     "execution_count": 15,
     "metadata": {},
     "output_type": "execute_result"
    }
   ],
   "source": [
    "sharks.isnull().sum()"
   ]
  },
  {
   "cell_type": "code",
   "execution_count": 16,
   "id": "civic-eligibility",
   "metadata": {},
   "outputs": [],
   "source": [
    "sharks.dropna(axis=0, how='any', thresh=3, inplace=True)"
   ]
  },
  {
   "cell_type": "markdown",
   "id": "recovered-vacation",
   "metadata": {},
   "source": [
    "2-Acabo de limpiar las filas con los valores nulos y por lo tanto mi shape disminuyó"
   ]
  },
  {
   "cell_type": "code",
   "execution_count": 17,
   "id": "breathing-decision",
   "metadata": {},
   "outputs": [
    {
     "data": {
      "text/plain": [
       "(6302, 6)"
      ]
     },
     "execution_count": 17,
     "metadata": {},
     "output_type": "execute_result"
    }
   ],
   "source": [
    "sharks.shape"
   ]
  },
  {
   "cell_type": "markdown",
   "id": "applied-valve",
   "metadata": {},
   "source": [
    "3-Ahora voy a eliminar valores que estén duplicados"
   ]
  },
  {
   "cell_type": "code",
   "execution_count": 18,
   "id": "cross-mention",
   "metadata": {},
   "outputs": [],
   "source": [
    "sharks=sharks.drop_duplicates()"
   ]
  },
  {
   "cell_type": "code",
   "execution_count": 19,
   "id": "loose-learning",
   "metadata": {},
   "outputs": [
    {
     "data": {
      "text/plain": [
       "(6279, 6)"
      ]
     },
     "execution_count": 19,
     "metadata": {},
     "output_type": "execute_result"
    }
   ],
   "source": [
    "sharks.shape"
   ]
  },
  {
   "cell_type": "markdown",
   "id": "eight-plate",
   "metadata": {},
   "source": [
    "# Vamos a trabajar con nuestras columnas"
   ]
  },
  {
   "cell_type": "markdown",
   "id": "governing-location",
   "metadata": {},
   "source": [
    "1-Vamos a sustituir los valores nulos de Type"
   ]
  },
  {
   "cell_type": "code",
   "execution_count": 20,
   "id": "sophisticated-bread",
   "metadata": {},
   "outputs": [
    {
     "data": {
      "text/html": [
       "<div>\n",
       "<style scoped>\n",
       "    .dataframe tbody tr th:only-of-type {\n",
       "        vertical-align: middle;\n",
       "    }\n",
       "\n",
       "    .dataframe tbody tr th {\n",
       "        vertical-align: top;\n",
       "    }\n",
       "\n",
       "    .dataframe thead th {\n",
       "        text-align: right;\n",
       "    }\n",
       "</style>\n",
       "<table border=\"1\" class=\"dataframe\">\n",
       "  <thead>\n",
       "    <tr style=\"text-align: right;\">\n",
       "      <th></th>\n",
       "      <th>Date</th>\n",
       "      <th>Year</th>\n",
       "      <th>Type</th>\n",
       "      <th>Activity</th>\n",
       "      <th>Injury</th>\n",
       "      <th>Fatal (Y/N)</th>\n",
       "    </tr>\n",
       "  </thead>\n",
       "  <tbody>\n",
       "    <tr>\n",
       "      <th>85</th>\n",
       "      <td>15-Sep-2017</td>\n",
       "      <td>2017.0</td>\n",
       "      <td>NaN</td>\n",
       "      <td>Fishing</td>\n",
       "      <td>Injuries to hands and legs</td>\n",
       "      <td>N</td>\n",
       "    </tr>\n",
       "    <tr>\n",
       "      <th>382</th>\n",
       "      <td>27-Jul-2015</td>\n",
       "      <td>2015.0</td>\n",
       "      <td>NaN</td>\n",
       "      <td>Surfing</td>\n",
       "      <td>Injury to hand</td>\n",
       "      <td>NaN</td>\n",
       "    </tr>\n",
       "    <tr>\n",
       "      <th>4867</th>\n",
       "      <td>Reported 11-Sep-1936</td>\n",
       "      <td>1936.0</td>\n",
       "      <td>NaN</td>\n",
       "      <td>Wreck of a sampam</td>\n",
       "      <td>FATAL</td>\n",
       "      <td>Y</td>\n",
       "    </tr>\n",
       "    <tr>\n",
       "      <th>5705</th>\n",
       "      <td>Reported 03-Mar-1890</td>\n",
       "      <td>1890.0</td>\n",
       "      <td>NaN</td>\n",
       "      <td>Diving</td>\n",
       "      <td>FATAL</td>\n",
       "      <td>Y</td>\n",
       "    </tr>\n",
       "  </tbody>\n",
       "</table>\n",
       "</div>"
      ],
      "text/plain": [
       "                      Date    Year Type           Activity  \\\n",
       "85             15-Sep-2017  2017.0  NaN            Fishing   \n",
       "382            27-Jul-2015  2015.0  NaN            Surfing   \n",
       "4867  Reported 11-Sep-1936  1936.0  NaN  Wreck of a sampam   \n",
       "5705  Reported 03-Mar-1890  1890.0  NaN             Diving   \n",
       "\n",
       "                          Injury Fatal (Y/N)  \n",
       "85    Injuries to hands and legs           N  \n",
       "382               Injury to hand         NaN  \n",
       "4867                       FATAL           Y  \n",
       "5705                       FATAL           Y  "
      ]
     },
     "execution_count": 20,
     "metadata": {},
     "output_type": "execute_result"
    }
   ],
   "source": [
    "sharks[sharks['Type'].isnull()]"
   ]
  },
  {
   "cell_type": "code",
   "execution_count": 21,
   "id": "abandoned-danger",
   "metadata": {},
   "outputs": [],
   "source": [
    "sharks[\"Type\"].fillna(\"Unprovoked\", inplace=True)"
   ]
  },
  {
   "cell_type": "markdown",
   "id": "residential-block",
   "metadata": {},
   "source": [
    "Estamos indicando que al no tener valores son ataques no provocados, viendo que la columna aporta ese dato."
   ]
  },
  {
   "cell_type": "code",
   "execution_count": 22,
   "id": "irish-chemical",
   "metadata": {},
   "outputs": [
    {
     "data": {
      "text/html": [
       "<div>\n",
       "<style scoped>\n",
       "    .dataframe tbody tr th:only-of-type {\n",
       "        vertical-align: middle;\n",
       "    }\n",
       "\n",
       "    .dataframe tbody tr th {\n",
       "        vertical-align: top;\n",
       "    }\n",
       "\n",
       "    .dataframe thead th {\n",
       "        text-align: right;\n",
       "    }\n",
       "</style>\n",
       "<table border=\"1\" class=\"dataframe\">\n",
       "  <thead>\n",
       "    <tr style=\"text-align: right;\">\n",
       "      <th></th>\n",
       "      <th>Date</th>\n",
       "      <th>Year</th>\n",
       "      <th>Type</th>\n",
       "      <th>Activity</th>\n",
       "      <th>Injury</th>\n",
       "      <th>Fatal (Y/N)</th>\n",
       "    </tr>\n",
       "  </thead>\n",
       "  <tbody>\n",
       "    <tr>\n",
       "      <th>0</th>\n",
       "      <td>25-Jun-2018</td>\n",
       "      <td>2018.0</td>\n",
       "      <td>Boating</td>\n",
       "      <td>Paddling</td>\n",
       "      <td>No injury to occupant, outrigger canoe and pad...</td>\n",
       "      <td>N</td>\n",
       "    </tr>\n",
       "    <tr>\n",
       "      <th>1</th>\n",
       "      <td>18-Jun-2018</td>\n",
       "      <td>2018.0</td>\n",
       "      <td>Unprovoked</td>\n",
       "      <td>Standing</td>\n",
       "      <td>Minor injury to left thigh</td>\n",
       "      <td>N</td>\n",
       "    </tr>\n",
       "    <tr>\n",
       "      <th>2</th>\n",
       "      <td>09-Jun-2018</td>\n",
       "      <td>2018.0</td>\n",
       "      <td>Invalid</td>\n",
       "      <td>Surfing</td>\n",
       "      <td>Injury to left lower leg from surfboard skeg</td>\n",
       "      <td>N</td>\n",
       "    </tr>\n",
       "    <tr>\n",
       "      <th>3</th>\n",
       "      <td>08-Jun-2018</td>\n",
       "      <td>2018.0</td>\n",
       "      <td>Unprovoked</td>\n",
       "      <td>Surfing</td>\n",
       "      <td>Minor injury to lower leg</td>\n",
       "      <td>N</td>\n",
       "    </tr>\n",
       "    <tr>\n",
       "      <th>4</th>\n",
       "      <td>04-Jun-2018</td>\n",
       "      <td>2018.0</td>\n",
       "      <td>Provoked</td>\n",
       "      <td>Free diving</td>\n",
       "      <td>Lacerations to leg &amp; hand shark PROVOKED INCIDENT</td>\n",
       "      <td>N</td>\n",
       "    </tr>\n",
       "  </tbody>\n",
       "</table>\n",
       "</div>"
      ],
      "text/plain": [
       "          Date    Year        Type     Activity  \\\n",
       "0  25-Jun-2018  2018.0     Boating     Paddling   \n",
       "1  18-Jun-2018  2018.0  Unprovoked     Standing   \n",
       "2  09-Jun-2018  2018.0     Invalid      Surfing   \n",
       "3  08-Jun-2018  2018.0  Unprovoked      Surfing   \n",
       "4  04-Jun-2018  2018.0    Provoked  Free diving   \n",
       "\n",
       "                                              Injury Fatal (Y/N)  \n",
       "0  No injury to occupant, outrigger canoe and pad...           N  \n",
       "1                         Minor injury to left thigh           N  \n",
       "2       Injury to left lower leg from surfboard skeg           N  \n",
       "3                          Minor injury to lower leg           N  \n",
       "4  Lacerations to leg & hand shark PROVOKED INCIDENT           N  "
      ]
     },
     "execution_count": 22,
     "metadata": {},
     "output_type": "execute_result"
    }
   ],
   "source": [
    "sharks.head(5)"
   ]
  },
  {
   "cell_type": "markdown",
   "id": "increased-state",
   "metadata": {},
   "source": [
    "Ahora vamos a limpiar la columna \"fatal\""
   ]
  },
  {
   "cell_type": "code",
   "execution_count": 23,
   "id": "hourly-retail",
   "metadata": {},
   "outputs": [
    {
     "data": {
      "text/html": [
       "<div>\n",
       "<style scoped>\n",
       "    .dataframe tbody tr th:only-of-type {\n",
       "        vertical-align: middle;\n",
       "    }\n",
       "\n",
       "    .dataframe tbody tr th {\n",
       "        vertical-align: top;\n",
       "    }\n",
       "\n",
       "    .dataframe thead th {\n",
       "        text-align: right;\n",
       "    }\n",
       "</style>\n",
       "<table border=\"1\" class=\"dataframe\">\n",
       "  <thead>\n",
       "    <tr style=\"text-align: right;\">\n",
       "      <th></th>\n",
       "      <th>Date</th>\n",
       "      <th>Year</th>\n",
       "      <th>Type</th>\n",
       "      <th>Activity</th>\n",
       "      <th>Injury</th>\n",
       "      <th>Fatal (Y/N)</th>\n",
       "    </tr>\n",
       "  </thead>\n",
       "  <tbody>\n",
       "    <tr>\n",
       "      <th>27</th>\n",
       "      <td>15-Apr-2018</td>\n",
       "      <td>2018.0</td>\n",
       "      <td>Unprovoked</td>\n",
       "      <td>Swimming</td>\n",
       "      <td>Multiple severe injuries to arms and leg, leg ...</td>\n",
       "      <td>NaN</td>\n",
       "    </tr>\n",
       "    <tr>\n",
       "      <th>76</th>\n",
       "      <td>01-Oct-2017</td>\n",
       "      <td>2017.0</td>\n",
       "      <td>Invalid</td>\n",
       "      <td>Scuba Diving</td>\n",
       "      <td>FATAL</td>\n",
       "      <td>NaN</td>\n",
       "    </tr>\n",
       "    <tr>\n",
       "      <th>79</th>\n",
       "      <td>24-Sep-2017</td>\n",
       "      <td>2017.0</td>\n",
       "      <td>Invalid</td>\n",
       "      <td>Surfing</td>\n",
       "      <td>Lacerations to right ankle, foot &amp; toe</td>\n",
       "      <td>NaN</td>\n",
       "    </tr>\n",
       "    <tr>\n",
       "      <th>84</th>\n",
       "      <td>15-Sep-2017</td>\n",
       "      <td>2017.0</td>\n",
       "      <td>Invalid</td>\n",
       "      <td>Scuba Diving</td>\n",
       "      <td>FATAL, but death was probably due to drowning</td>\n",
       "      <td>NaN</td>\n",
       "    </tr>\n",
       "    <tr>\n",
       "      <th>98</th>\n",
       "      <td>26-Aug-2017</td>\n",
       "      <td>2017.0</td>\n",
       "      <td>Invalid</td>\n",
       "      <td>Swimming</td>\n",
       "      <td>Lacerations to left foot</td>\n",
       "      <td>NaN</td>\n",
       "    </tr>\n",
       "    <tr>\n",
       "      <th>...</th>\n",
       "      <td>...</td>\n",
       "      <td>...</td>\n",
       "      <td>...</td>\n",
       "      <td>...</td>\n",
       "      <td>...</td>\n",
       "      <td>...</td>\n",
       "    </tr>\n",
       "    <tr>\n",
       "      <th>6147</th>\n",
       "      <td>1767</td>\n",
       "      <td>1767.0</td>\n",
       "      <td>Invalid</td>\n",
       "      <td>Bathing</td>\n",
       "      <td>Lacerations to arm &amp; leg</td>\n",
       "      <td>NaN</td>\n",
       "    </tr>\n",
       "    <tr>\n",
       "      <th>6157</th>\n",
       "      <td>1733</td>\n",
       "      <td>1733.0</td>\n",
       "      <td>Invalid</td>\n",
       "      <td>NaN</td>\n",
       "      <td>Partial hominid remains recovered from shark, ...</td>\n",
       "      <td>NaN</td>\n",
       "    </tr>\n",
       "    <tr>\n",
       "      <th>6158</th>\n",
       "      <td>1723</td>\n",
       "      <td>1723.0</td>\n",
       "      <td>Unprovoked</td>\n",
       "      <td>NaN</td>\n",
       "      <td>Struck on thigh</td>\n",
       "      <td>NaN</td>\n",
       "    </tr>\n",
       "    <tr>\n",
       "      <th>6164</th>\n",
       "      <td>Late 1600s Reported 1728</td>\n",
       "      <td>1642.0</td>\n",
       "      <td>Invalid</td>\n",
       "      <td>Went overboard</td>\n",
       "      <td>FATAL</td>\n",
       "      <td>NaN</td>\n",
       "    </tr>\n",
       "    <tr>\n",
       "      <th>6232</th>\n",
       "      <td>No date, Before 1963</td>\n",
       "      <td>0.0</td>\n",
       "      <td>Invalid</td>\n",
       "      <td>Diving</td>\n",
       "      <td>A 4.3 m [14'] shark made threat display. No in...</td>\n",
       "      <td>NaN</td>\n",
       "    </tr>\n",
       "  </tbody>\n",
       "</table>\n",
       "<p>539 rows × 6 columns</p>\n",
       "</div>"
      ],
      "text/plain": [
       "                          Date    Year        Type        Activity  \\\n",
       "27                 15-Apr-2018  2018.0  Unprovoked        Swimming   \n",
       "76                 01-Oct-2017  2017.0     Invalid    Scuba Diving   \n",
       "79                 24-Sep-2017  2017.0     Invalid         Surfing   \n",
       "84                 15-Sep-2017  2017.0     Invalid    Scuba Diving   \n",
       "98                 26-Aug-2017  2017.0     Invalid        Swimming   \n",
       "...                        ...     ...         ...             ...   \n",
       "6147                      1767  1767.0     Invalid         Bathing   \n",
       "6157                      1733  1733.0     Invalid             NaN   \n",
       "6158                      1723  1723.0  Unprovoked             NaN   \n",
       "6164  Late 1600s Reported 1728  1642.0     Invalid  Went overboard   \n",
       "6232      No date, Before 1963     0.0     Invalid          Diving   \n",
       "\n",
       "                                                 Injury Fatal (Y/N)  \n",
       "27    Multiple severe injuries to arms and leg, leg ...         NaN  \n",
       "76                                                FATAL         NaN  \n",
       "79               Lacerations to right ankle, foot & toe         NaN  \n",
       "84        FATAL, but death was probably due to drowning         NaN  \n",
       "98                             Lacerations to left foot         NaN  \n",
       "...                                                 ...         ...  \n",
       "6147                           Lacerations to arm & leg         NaN  \n",
       "6157  Partial hominid remains recovered from shark, ...         NaN  \n",
       "6158                                    Struck on thigh         NaN  \n",
       "6164                                              FATAL         NaN  \n",
       "6232  A 4.3 m [14'] shark made threat display. No in...         NaN  \n",
       "\n",
       "[539 rows x 6 columns]"
      ]
     },
     "execution_count": 23,
     "metadata": {},
     "output_type": "execute_result"
    }
   ],
   "source": [
    "sharks[sharks[\"Fatal (Y/N)\"].isnull()]"
   ]
  },
  {
   "cell_type": "code",
   "execution_count": 24,
   "id": "worth-maria",
   "metadata": {},
   "outputs": [
    {
     "data": {
      "text/plain": [
       "0       N\n",
       "1       N\n",
       "2       N\n",
       "3       N\n",
       "4       N\n",
       "       ..\n",
       "6297    Y\n",
       "6298    Y\n",
       "6299    Y\n",
       "6300    Y\n",
       "6301    Y\n",
       "Name: Fatal (Y/N), Length: 6279, dtype: object"
      ]
     },
     "execution_count": 24,
     "metadata": {},
     "output_type": "execute_result"
    }
   ],
   "source": [
    "sharks[\"Fatal (Y/N)\"].fillna(\"N\")"
   ]
  },
  {
   "cell_type": "code",
   "execution_count": 25,
   "id": "listed-season",
   "metadata": {},
   "outputs": [
    {
     "data": {
      "text/plain": [
       "[nan, 'M', 'Y', 'N', ' N', 'UNKNOWN', '2017', 'y', 'N ']"
      ]
     },
     "execution_count": 25,
     "metadata": {},
     "output_type": "execute_result"
    }
   ],
   "source": [
    "list(set(sharks['Fatal (Y/N)']))"
   ]
  },
  {
   "cell_type": "markdown",
   "id": "funky-uzbekistan",
   "metadata": {},
   "source": [
    "Podemos ver los valores se encuentran en la columna \"fatal\" y encontramos algunos conceptos que pueden ser agrupados como la \"Y\", \"y\" y las diferentes \"N´s\""
   ]
  },
  {
   "cell_type": "code",
   "execution_count": 26,
   "id": "vocal-humor",
   "metadata": {},
   "outputs": [],
   "source": [
    "sharks.loc[sharks[\"Fatal (Y/N)\"] == \"y\", \"Fatal (Y/N)\"] = \"Y\""
   ]
  },
  {
   "cell_type": "code",
   "execution_count": 27,
   "id": "regulated-birth",
   "metadata": {},
   "outputs": [],
   "source": [
    "sharks.loc[sharks[\"Fatal (Y/N)\"] == \"N\", \"Fatal (Y/N)\"] = \"N\""
   ]
  },
  {
   "cell_type": "code",
   "execution_count": 28,
   "id": "manual-destination",
   "metadata": {},
   "outputs": [],
   "source": [
    "sharks.loc[sharks[\"Fatal (Y/N)\"] == \"N\", \"Fatal (Y/N)\"] = \"N\""
   ]
  },
  {
   "cell_type": "code",
   "execution_count": 29,
   "id": "personal-retirement",
   "metadata": {},
   "outputs": [],
   "source": [
    "sharks.loc[sharks[\"Fatal (Y/N)\"] == \"N\", \"Fatal (Y/N)\"] = \"N\""
   ]
  },
  {
   "cell_type": "code",
   "execution_count": 30,
   "id": "experienced-intensity",
   "metadata": {},
   "outputs": [
    {
     "data": {
      "text/html": [
       "<div>\n",
       "<style scoped>\n",
       "    .dataframe tbody tr th:only-of-type {\n",
       "        vertical-align: middle;\n",
       "    }\n",
       "\n",
       "    .dataframe tbody tr th {\n",
       "        vertical-align: top;\n",
       "    }\n",
       "\n",
       "    .dataframe thead th {\n",
       "        text-align: right;\n",
       "    }\n",
       "</style>\n",
       "<table border=\"1\" class=\"dataframe\">\n",
       "  <thead>\n",
       "    <tr style=\"text-align: right;\">\n",
       "      <th></th>\n",
       "      <th>Date</th>\n",
       "      <th>Year</th>\n",
       "      <th>Type</th>\n",
       "      <th>Activity</th>\n",
       "      <th>Injury</th>\n",
       "      <th>Fatal (Y/N)</th>\n",
       "    </tr>\n",
       "  </thead>\n",
       "  <tbody>\n",
       "    <tr>\n",
       "      <th>786</th>\n",
       "      <td>10-Jun-2012</td>\n",
       "      <td>2012.0</td>\n",
       "      <td>Provoked</td>\n",
       "      <td>Attempting to rescue an injured &amp; beached shark</td>\n",
       "      <td>Lower left leg injured PROVOKED ACCIDENT</td>\n",
       "      <td>2017</td>\n",
       "    </tr>\n",
       "  </tbody>\n",
       "</table>\n",
       "</div>"
      ],
      "text/plain": [
       "            Date    Year      Type  \\\n",
       "786  10-Jun-2012  2012.0  Provoked   \n",
       "\n",
       "                                            Activity  \\\n",
       "786  Attempting to rescue an injured & beached shark   \n",
       "\n",
       "                                       Injury Fatal (Y/N)  \n",
       "786  Lower left leg injured PROVOKED ACCIDENT        2017  "
      ]
     },
     "execution_count": 30,
     "metadata": {},
     "output_type": "execute_result"
    }
   ],
   "source": [
    "sharks[sharks[\"Fatal (Y/N)\"]==\"2017\"]"
   ]
  },
  {
   "cell_type": "code",
   "execution_count": 31,
   "id": "statistical-sauce",
   "metadata": {},
   "outputs": [],
   "source": [
    "sharks.loc[sharks[\"Fatal (Y/N)\"] == \"2017\", \"Fatal (Y/N)\"] = \"N\""
   ]
  },
  {
   "cell_type": "markdown",
   "id": "cognitive-shakespeare",
   "metadata": {},
   "source": [
    "Nuestras posibilidades son:"
   ]
  },
  {
   "cell_type": "code",
   "execution_count": 32,
   "id": "worth-hello",
   "metadata": {},
   "outputs": [
    {
     "data": {
      "text/plain": [
       "[nan, 'M', 'Y', 'N', ' N', 'UNKNOWN', 'N ']"
      ]
     },
     "execution_count": 32,
     "metadata": {},
     "output_type": "execute_result"
    }
   ],
   "source": [
    "list(set(sharks[\"Fatal (Y/N)\"]))"
   ]
  },
  {
   "cell_type": "code",
   "execution_count": 33,
   "id": "billion-tablet",
   "metadata": {},
   "outputs": [
    {
     "data": {
      "text/plain": [
       "(6279, 6)"
      ]
     },
     "execution_count": 33,
     "metadata": {},
     "output_type": "execute_result"
    }
   ],
   "source": [
    "sharks.shape"
   ]
  },
  {
   "cell_type": "markdown",
   "id": "revolutionary-logan",
   "metadata": {},
   "source": [
    "Columna de \"fatal\" con valores nulos"
   ]
  },
  {
   "cell_type": "code",
   "execution_count": 34,
   "id": "elder-premium",
   "metadata": {},
   "outputs": [],
   "source": [
    "sharks.dropna(subset=[\"Fatal (Y/N)\"], inplace=True)"
   ]
  },
  {
   "cell_type": "markdown",
   "id": "ethical-macedonia",
   "metadata": {},
   "source": [
    "Seguiremos limpiando de información no importante:\n",
    " ->   haremos algunos cambios y renombraré la columna"
   ]
  },
  {
   "cell_type": "code",
   "execution_count": 35,
   "id": "welcome-council",
   "metadata": {},
   "outputs": [],
   "source": [
    "sharks.replace({\"Fatal (Y/N)\": {\"Y\":1, \"N\":0}}, inplace=True)"
   ]
  },
  {
   "cell_type": "code",
   "execution_count": 36,
   "id": "impressive-stevens",
   "metadata": {},
   "outputs": [],
   "source": [
    "sharks.rename(columns = {\"Fatal (Y/N)\":\"Fatal\"}, inplace=True)"
   ]
  },
  {
   "cell_type": "markdown",
   "id": "front-vampire",
   "metadata": {},
   "source": [
    "Ahora vamos con la columna de \"Activity\""
   ]
  },
  {
   "cell_type": "code",
   "execution_count": 37,
   "id": "downtown-intro",
   "metadata": {},
   "outputs": [
    {
     "data": {
      "text/plain": [
       "Date          0\n",
       "Year          1\n",
       "Type          0\n",
       "Activity    415\n",
       "Injury       21\n",
       "Fatal         0\n",
       "dtype: int64"
      ]
     },
     "execution_count": 37,
     "metadata": {},
     "output_type": "execute_result"
    }
   ],
   "source": [
    "sharks.isnull().sum()"
   ]
  },
  {
   "cell_type": "markdown",
   "id": "speaking-sender",
   "metadata": {},
   "source": [
    "De nuevo vamos a eliminar los valores nulos:"
   ]
  },
  {
   "cell_type": "code",
   "execution_count": 38,
   "id": "protective-calgary",
   "metadata": {},
   "outputs": [
    {
     "data": {
      "text/html": [
       "<div>\n",
       "<style scoped>\n",
       "    .dataframe tbody tr th:only-of-type {\n",
       "        vertical-align: middle;\n",
       "    }\n",
       "\n",
       "    .dataframe tbody tr th {\n",
       "        vertical-align: top;\n",
       "    }\n",
       "\n",
       "    .dataframe thead th {\n",
       "        text-align: right;\n",
       "    }\n",
       "</style>\n",
       "<table border=\"1\" class=\"dataframe\">\n",
       "  <thead>\n",
       "    <tr style=\"text-align: right;\">\n",
       "      <th></th>\n",
       "      <th>Date</th>\n",
       "      <th>Year</th>\n",
       "      <th>Type</th>\n",
       "      <th>Activity</th>\n",
       "      <th>Injury</th>\n",
       "      <th>Fatal</th>\n",
       "    </tr>\n",
       "  </thead>\n",
       "  <tbody>\n",
       "    <tr>\n",
       "      <th>47</th>\n",
       "      <td>28-Jan-2018</td>\n",
       "      <td>2018.0</td>\n",
       "      <td>Unprovoked</td>\n",
       "      <td>NaN</td>\n",
       "      <td>Injuries to right leg</td>\n",
       "      <td>0</td>\n",
       "    </tr>\n",
       "    <tr>\n",
       "      <th>108</th>\n",
       "      <td>29-Jul-2017</td>\n",
       "      <td>2017.0</td>\n",
       "      <td>Unprovoked</td>\n",
       "      <td>NaN</td>\n",
       "      <td>Bite to left thigh / minor injury</td>\n",
       "      <td>0</td>\n",
       "    </tr>\n",
       "    <tr>\n",
       "      <th>112</th>\n",
       "      <td>23-Jul-2017</td>\n",
       "      <td>2017.0</td>\n",
       "      <td>Unprovoked</td>\n",
       "      <td>NaN</td>\n",
       "      <td>Minor injury to hand</td>\n",
       "      <td>0</td>\n",
       "    </tr>\n",
       "    <tr>\n",
       "      <th>114</th>\n",
       "      <td>22-Jul-2017</td>\n",
       "      <td>2017.0</td>\n",
       "      <td>Unprovoked</td>\n",
       "      <td>NaN</td>\n",
       "      <td>Foot bitten</td>\n",
       "      <td>0</td>\n",
       "    </tr>\n",
       "    <tr>\n",
       "      <th>154</th>\n",
       "      <td>17-Apr-2017</td>\n",
       "      <td>2017.0</td>\n",
       "      <td>Unprovoked</td>\n",
       "      <td>NaN</td>\n",
       "      <td>Minor bite to the foot</td>\n",
       "      <td>0</td>\n",
       "    </tr>\n",
       "  </tbody>\n",
       "</table>\n",
       "</div>"
      ],
      "text/plain": [
       "            Date    Year        Type Activity  \\\n",
       "47   28-Jan-2018  2018.0  Unprovoked      NaN   \n",
       "108  29-Jul-2017  2017.0  Unprovoked      NaN   \n",
       "112  23-Jul-2017  2017.0  Unprovoked      NaN   \n",
       "114  22-Jul-2017  2017.0  Unprovoked      NaN   \n",
       "154  17-Apr-2017  2017.0  Unprovoked      NaN   \n",
       "\n",
       "                                Injury Fatal  \n",
       "47               Injuries to right leg     0  \n",
       "108  Bite to left thigh / minor injury     0  \n",
       "112               Minor injury to hand     0  \n",
       "114                        Foot bitten     0  \n",
       "154             Minor bite to the foot     0  "
      ]
     },
     "execution_count": 38,
     "metadata": {},
     "output_type": "execute_result"
    }
   ],
   "source": [
    "sharks[sharks[\"Activity\"].isnull()].head()"
   ]
  },
  {
   "cell_type": "code",
   "execution_count": 39,
   "id": "separated-popularity",
   "metadata": {},
   "outputs": [],
   "source": [
    "sharks.dropna(subset=[\"Activity\"], inplace=True)"
   ]
  },
  {
   "cell_type": "code",
   "execution_count": 40,
   "id": "quality-theology",
   "metadata": {},
   "outputs": [
    {
     "data": {
      "text/plain": [
       "Date         0\n",
       "Year         1\n",
       "Type         0\n",
       "Activity     0\n",
       "Injury      11\n",
       "Fatal        0\n",
       "dtype: int64"
      ]
     },
     "execution_count": 40,
     "metadata": {},
     "output_type": "execute_result"
    }
   ],
   "source": [
    "sharks.isnull().sum()"
   ]
  },
  {
   "cell_type": "markdown",
   "id": "flush-provision",
   "metadata": {},
   "source": [
    "Seguimos limpiando nuestras columnas:\n",
    "    Ahora \"Injury\""
   ]
  },
  {
   "cell_type": "markdown",
   "id": "broad-gender",
   "metadata": {},
   "source": [
    "Único valor único con ataque fatal"
   ]
  },
  {
   "cell_type": "code",
   "execution_count": 41,
   "id": "burning-inspiration",
   "metadata": {},
   "outputs": [],
   "source": [
    "sharks[\"Injury\"].fillna(\"death\", inplace=True)"
   ]
  },
  {
   "cell_type": "code",
   "execution_count": 42,
   "id": "hired-seafood",
   "metadata": {},
   "outputs": [
    {
     "data": {
      "text/plain": [
       "Date        0\n",
       "Year        1\n",
       "Type        0\n",
       "Activity    0\n",
       "Injury      0\n",
       "Fatal       0\n",
       "dtype: int64"
      ]
     },
     "execution_count": 42,
     "metadata": {},
     "output_type": "execute_result"
    }
   ],
   "source": [
    "sharks.isnull().sum()"
   ]
  },
  {
   "cell_type": "markdown",
   "id": "comparative-nylon",
   "metadata": {},
   "source": [
    "Limparé la columna \"Type\""
   ]
  },
  {
   "cell_type": "code",
   "execution_count": 43,
   "id": "prime-cross",
   "metadata": {},
   "outputs": [
    {
     "data": {
      "text/plain": [
       "array(['Boating', 'Unprovoked', 'Invalid', 'Provoked', 'Questionable',\n",
       "       'Sea Disaster', 'Boat', 'Boatomg'], dtype=object)"
      ]
     },
     "execution_count": 43,
     "metadata": {},
     "output_type": "execute_result"
    }
   ],
   "source": [
    "sharks['Type'].unique()"
   ]
  },
  {
   "cell_type": "code",
   "execution_count": 44,
   "id": "parallel-graphics",
   "metadata": {},
   "outputs": [],
   "source": [
    "sharks[\"Type\"].replace([\"Boating\"], \"Unprovoked\", inplace=True)"
   ]
  },
  {
   "cell_type": "code",
   "execution_count": 45,
   "id": "alpine-stations",
   "metadata": {},
   "outputs": [],
   "source": [
    "sharks[\"Type\"].replace([\"Boating\"], \"Unprovoked\", inplace=True)"
   ]
  },
  {
   "cell_type": "code",
   "execution_count": 46,
   "id": "utility-apache",
   "metadata": {},
   "outputs": [],
   "source": [
    "sharks[\"Type\"].replace([\"Boat\"], \"Unprovoked\", inplace=True)"
   ]
  },
  {
   "cell_type": "code",
   "execution_count": 47,
   "id": "distant-triangle",
   "metadata": {},
   "outputs": [],
   "source": [
    "sharks[\"Type\"].replace([\"Sea Disaster\"], \"Unprovoked\", inplace=True)"
   ]
  },
  {
   "cell_type": "code",
   "execution_count": 48,
   "id": "another-fiber",
   "metadata": {},
   "outputs": [
    {
     "data": {
      "text/plain": [
       "array(['Unprovoked', 'Invalid', 'Provoked', 'Questionable', 'Boatomg'],\n",
       "      dtype=object)"
      ]
     },
     "execution_count": 48,
     "metadata": {},
     "output_type": "execute_result"
    }
   ],
   "source": [
    "sharks['Type'].unique()"
   ]
  },
  {
   "cell_type": "markdown",
   "id": "entertaining-synthetic",
   "metadata": {},
   "source": [
    "Agruparé algunos valores y eliminare categorías:"
   ]
  },
  {
   "cell_type": "markdown",
   "id": "august-defendant",
   "metadata": {},
   "source": [
    "Limpieza de \"Year\""
   ]
  },
  {
   "cell_type": "code",
   "execution_count": 49,
   "id": "manufactured-delay",
   "metadata": {},
   "outputs": [
    {
     "data": {
      "text/plain": [
       "0       25-Jun-2018\n",
       "1       18-Jun-2018\n",
       "2       09-Jun-2018\n",
       "3       08-Jun-2018\n",
       "4       04-Jun-2018\n",
       "           ...     \n",
       "6296    Before 1906\n",
       "6297    Before 1903\n",
       "6298    Before 1903\n",
       "6299      1900-1905\n",
       "6301      1845-1853\n",
       "Name: Date, Length: 5325, dtype: object"
      ]
     },
     "execution_count": 49,
     "metadata": {},
     "output_type": "execute_result"
    }
   ],
   "source": [
    "sharks['Date']"
   ]
  },
  {
   "cell_type": "code",
   "execution_count": 50,
   "id": "ready-superior",
   "metadata": {},
   "outputs": [],
   "source": [
    "sharks[\"Date\"]=sharks[\"Date\"].str.replace(\"-\",\" \")"
   ]
  },
  {
   "cell_type": "code",
   "execution_count": 51,
   "id": "announced-revelation",
   "metadata": {},
   "outputs": [],
   "source": [
    "sharks[\"Date\"]=sharks[\"Date\"].str.replace(\"-\",\" \")"
   ]
  },
  {
   "cell_type": "code",
   "execution_count": 52,
   "id": "operating-saying",
   "metadata": {},
   "outputs": [],
   "source": [
    "sharks[\"Date\"]=sharks[\"Date\"].str.split(\" \")"
   ]
  },
  {
   "cell_type": "code",
   "execution_count": 53,
   "id": "patent-gibraltar",
   "metadata": {},
   "outputs": [],
   "source": [
    "sharks[\"Year\"]=sharks[\"Date\"].str[-1]"
   ]
  },
  {
   "cell_type": "code",
   "execution_count": 54,
   "id": "chubby-impression",
   "metadata": {},
   "outputs": [
    {
     "data": {
      "text/plain": [
       "6296    1906\n",
       "6297    1903\n",
       "6298    1903\n",
       "6299    1905\n",
       "6301    1853\n",
       "Name: Year, dtype: object"
      ]
     },
     "execution_count": 54,
     "metadata": {},
     "output_type": "execute_result"
    }
   ],
   "source": [
    "sharks[\"Year\"].tail()"
   ]
  },
  {
   "cell_type": "markdown",
   "id": "located-toddler",
   "metadata": {},
   "source": [
    "Limpieza de año:"
   ]
  },
  {
   "cell_type": "code",
   "execution_count": 55,
   "id": "linear-integration",
   "metadata": {},
   "outputs": [
    {
     "data": {
      "text/plain": [
       "0       [2018]\n",
       "1       [2018]\n",
       "2       [2018]\n",
       "3       [2018]\n",
       "4       [2018]\n",
       "         ...  \n",
       "6296    [1906]\n",
       "6297    [1903]\n",
       "6298    [1903]\n",
       "6299    [1905]\n",
       "6301    [1853]\n",
       "Name: Year, Length: 5325, dtype: object"
      ]
     },
     "execution_count": 55,
     "metadata": {},
     "output_type": "execute_result"
    }
   ],
   "source": [
    "sharks[\"Year\"].str.split(\"s\")"
   ]
  },
  {
   "cell_type": "code",
   "execution_count": 56,
   "id": "clinical-congo",
   "metadata": {},
   "outputs": [],
   "source": [
    "sharks[\"Year\"]=sharks[\"Year\"].str[0:4]"
   ]
  },
  {
   "cell_type": "code",
   "execution_count": 57,
   "id": "nearby-midnight",
   "metadata": {},
   "outputs": [
    {
     "data": {
      "text/plain": [
       "0       2018\n",
       "1       2018\n",
       "2       2018\n",
       "3       2018\n",
       "4       2018\n",
       "        ... \n",
       "6296    1906\n",
       "6297    1903\n",
       "6298    1903\n",
       "6299    1905\n",
       "6301    1853\n",
       "Name: Year, Length: 5325, dtype: object"
      ]
     },
     "execution_count": 57,
     "metadata": {},
     "output_type": "execute_result"
    }
   ],
   "source": [
    "sharks['Year']"
   ]
  },
  {
   "cell_type": "markdown",
   "id": "decent-black",
   "metadata": {},
   "source": [
    "Crearé una columna llamada \"Mes\""
   ]
  },
  {
   "cell_type": "code",
   "execution_count": 58,
   "id": "broken-credit",
   "metadata": {},
   "outputs": [
    {
     "data": {
      "text/plain": [
       "0       [25, Jun, 2018]\n",
       "1       [18, Jun, 2018]\n",
       "2       [09, Jun, 2018]\n",
       "3       [08, Jun, 2018]\n",
       "4       [04, Jun, 2018]\n",
       "             ...       \n",
       "6296     [Before, 1906]\n",
       "6297     [Before, 1903]\n",
       "6298     [Before, 1903]\n",
       "6299       [1900, 1905]\n",
       "6301       [1845, 1853]\n",
       "Name: Date, Length: 5325, dtype: object"
      ]
     },
     "execution_count": 58,
     "metadata": {},
     "output_type": "execute_result"
    }
   ],
   "source": [
    "sharks[\"Date\"]"
   ]
  },
  {
   "cell_type": "code",
   "execution_count": 59,
   "id": "boolean-vehicle",
   "metadata": {},
   "outputs": [],
   "source": [
    "sharks[\"Month\"]=sharks[\"Date\"].str[-2]"
   ]
  },
  {
   "cell_type": "code",
   "execution_count": 60,
   "id": "electoral-maine",
   "metadata": {},
   "outputs": [
    {
     "data": {
      "text/plain": [
       "0          Jun\n",
       "1          Jun\n",
       "2          Jun\n",
       "3          Jun\n",
       "4          Jun\n",
       "         ...  \n",
       "6296    Before\n",
       "6297    Before\n",
       "6298    Before\n",
       "6299      1900\n",
       "6301      1845\n",
       "Name: Month, Length: 5325, dtype: object"
      ]
     },
     "execution_count": 60,
     "metadata": {},
     "output_type": "execute_result"
    }
   ],
   "source": [
    "sharks[\"Month\"]"
   ]
  },
  {
   "cell_type": "code",
   "execution_count": 61,
   "id": "infectious-society",
   "metadata": {},
   "outputs": [],
   "source": [
    "sharks[\"Month\"].fillna(\"Unknown\", inplace=True)"
   ]
  },
  {
   "cell_type": "code",
   "execution_count": 62,
   "id": "herbal-court",
   "metadata": {},
   "outputs": [],
   "source": [
    "sharks[\"Month\"].replace([\"23\", \" \",\"Before\",\"1941\",\"1900\",\"1883\",\"1845\"], \"Unknown\", inplace=True)"
   ]
  },
  {
   "cell_type": "code",
   "execution_count": 63,
   "id": "gorgeous-allah",
   "metadata": {},
   "outputs": [
    {
     "data": {
      "text/plain": [
       "0           Jun\n",
       "1           Jun\n",
       "2           Jun\n",
       "3           Jun\n",
       "4           Jun\n",
       "         ...   \n",
       "6296    Unknown\n",
       "6297    Unknown\n",
       "6298    Unknown\n",
       "6299    Unknown\n",
       "6301    Unknown\n",
       "Name: Month, Length: 5325, dtype: object"
      ]
     },
     "execution_count": 63,
     "metadata": {},
     "output_type": "execute_result"
    }
   ],
   "source": [
    "sharks[\"Month\"]"
   ]
  },
  {
   "cell_type": "code",
   "execution_count": 64,
   "id": "scheduled-retail",
   "metadata": {},
   "outputs": [
    {
     "data": {
      "text/html": [
       "<div>\n",
       "<style scoped>\n",
       "    .dataframe tbody tr th:only-of-type {\n",
       "        vertical-align: middle;\n",
       "    }\n",
       "\n",
       "    .dataframe tbody tr th {\n",
       "        vertical-align: top;\n",
       "    }\n",
       "\n",
       "    .dataframe thead th {\n",
       "        text-align: right;\n",
       "    }\n",
       "</style>\n",
       "<table border=\"1\" class=\"dataframe\">\n",
       "  <thead>\n",
       "    <tr style=\"text-align: right;\">\n",
       "      <th></th>\n",
       "      <th>Date</th>\n",
       "      <th>Year</th>\n",
       "      <th>Type</th>\n",
       "      <th>Activity</th>\n",
       "      <th>Injury</th>\n",
       "      <th>Fatal</th>\n",
       "      <th>Month</th>\n",
       "    </tr>\n",
       "  </thead>\n",
       "  <tbody>\n",
       "    <tr>\n",
       "      <th>6296</th>\n",
       "      <td>[Before, 1906]</td>\n",
       "      <td>1906</td>\n",
       "      <td>Unprovoked</td>\n",
       "      <td>Swimming</td>\n",
       "      <td>FATAL</td>\n",
       "      <td>1</td>\n",
       "      <td>Unknown</td>\n",
       "    </tr>\n",
       "    <tr>\n",
       "      <th>6297</th>\n",
       "      <td>[Before, 1903]</td>\n",
       "      <td>1903</td>\n",
       "      <td>Unprovoked</td>\n",
       "      <td>Diving</td>\n",
       "      <td>FATAL</td>\n",
       "      <td>1</td>\n",
       "      <td>Unknown</td>\n",
       "    </tr>\n",
       "    <tr>\n",
       "      <th>6298</th>\n",
       "      <td>[Before, 1903]</td>\n",
       "      <td>1903</td>\n",
       "      <td>Unprovoked</td>\n",
       "      <td>Pearl diving</td>\n",
       "      <td>FATAL</td>\n",
       "      <td>1</td>\n",
       "      <td>Unknown</td>\n",
       "    </tr>\n",
       "    <tr>\n",
       "      <th>6299</th>\n",
       "      <td>[1900, 1905]</td>\n",
       "      <td>1905</td>\n",
       "      <td>Unprovoked</td>\n",
       "      <td>Swimming</td>\n",
       "      <td>FATAL</td>\n",
       "      <td>1</td>\n",
       "      <td>Unknown</td>\n",
       "    </tr>\n",
       "    <tr>\n",
       "      <th>6301</th>\n",
       "      <td>[1845, 1853]</td>\n",
       "      <td>1853</td>\n",
       "      <td>Unprovoked</td>\n",
       "      <td>Swimming</td>\n",
       "      <td>FATAL. \"Shark bit him in half, carrying away t...</td>\n",
       "      <td>1</td>\n",
       "      <td>Unknown</td>\n",
       "    </tr>\n",
       "  </tbody>\n",
       "</table>\n",
       "</div>"
      ],
      "text/plain": [
       "                Date  Year        Type      Activity  \\\n",
       "6296  [Before, 1906]  1906  Unprovoked      Swimming   \n",
       "6297  [Before, 1903]  1903  Unprovoked        Diving   \n",
       "6298  [Before, 1903]  1903  Unprovoked  Pearl diving   \n",
       "6299    [1900, 1905]  1905  Unprovoked      Swimming   \n",
       "6301    [1845, 1853]  1853  Unprovoked      Swimming   \n",
       "\n",
       "                                                 Injury Fatal    Month  \n",
       "6296                                              FATAL     1  Unknown  \n",
       "6297                                              FATAL     1  Unknown  \n",
       "6298                                              FATAL     1  Unknown  \n",
       "6299                                              FATAL     1  Unknown  \n",
       "6301  FATAL. \"Shark bit him in half, carrying away t...     1  Unknown  "
      ]
     },
     "execution_count": 64,
     "metadata": {},
     "output_type": "execute_result"
    }
   ],
   "source": [
    "sharks.tail(5)"
   ]
  },
  {
   "cell_type": "markdown",
   "id": "permanent-accountability",
   "metadata": {},
   "source": [
    "# Así queda la tabla después de limpiarla"
   ]
  },
  {
   "cell_type": "code",
   "execution_count": 65,
   "id": "controversial-springer",
   "metadata": {},
   "outputs": [],
   "source": [
    "sharks_clean=sharks[[\"Year\",\"Month\",\"Activity\",\"Type\",\"Fatal\"]]"
   ]
  },
  {
   "cell_type": "code",
   "execution_count": 66,
   "id": "failing-instrument",
   "metadata": {},
   "outputs": [
    {
     "data": {
      "text/html": [
       "<div>\n",
       "<style scoped>\n",
       "    .dataframe tbody tr th:only-of-type {\n",
       "        vertical-align: middle;\n",
       "    }\n",
       "\n",
       "    .dataframe tbody tr th {\n",
       "        vertical-align: top;\n",
       "    }\n",
       "\n",
       "    .dataframe thead th {\n",
       "        text-align: right;\n",
       "    }\n",
       "</style>\n",
       "<table border=\"1\" class=\"dataframe\">\n",
       "  <thead>\n",
       "    <tr style=\"text-align: right;\">\n",
       "      <th></th>\n",
       "      <th>Year</th>\n",
       "      <th>Month</th>\n",
       "      <th>Activity</th>\n",
       "      <th>Type</th>\n",
       "      <th>Fatal</th>\n",
       "    </tr>\n",
       "  </thead>\n",
       "  <tbody>\n",
       "    <tr>\n",
       "      <th>0</th>\n",
       "      <td>2018</td>\n",
       "      <td>Jun</td>\n",
       "      <td>Paddling</td>\n",
       "      <td>Unprovoked</td>\n",
       "      <td>0</td>\n",
       "    </tr>\n",
       "    <tr>\n",
       "      <th>1</th>\n",
       "      <td>2018</td>\n",
       "      <td>Jun</td>\n",
       "      <td>Standing</td>\n",
       "      <td>Unprovoked</td>\n",
       "      <td>0</td>\n",
       "    </tr>\n",
       "    <tr>\n",
       "      <th>2</th>\n",
       "      <td>2018</td>\n",
       "      <td>Jun</td>\n",
       "      <td>Surfing</td>\n",
       "      <td>Invalid</td>\n",
       "      <td>0</td>\n",
       "    </tr>\n",
       "    <tr>\n",
       "      <th>3</th>\n",
       "      <td>2018</td>\n",
       "      <td>Jun</td>\n",
       "      <td>Surfing</td>\n",
       "      <td>Unprovoked</td>\n",
       "      <td>0</td>\n",
       "    </tr>\n",
       "    <tr>\n",
       "      <th>4</th>\n",
       "      <td>2018</td>\n",
       "      <td>Jun</td>\n",
       "      <td>Free diving</td>\n",
       "      <td>Provoked</td>\n",
       "      <td>0</td>\n",
       "    </tr>\n",
       "    <tr>\n",
       "      <th>...</th>\n",
       "      <td>...</td>\n",
       "      <td>...</td>\n",
       "      <td>...</td>\n",
       "      <td>...</td>\n",
       "      <td>...</td>\n",
       "    </tr>\n",
       "    <tr>\n",
       "      <th>6296</th>\n",
       "      <td>1906</td>\n",
       "      <td>Unknown</td>\n",
       "      <td>Swimming</td>\n",
       "      <td>Unprovoked</td>\n",
       "      <td>1</td>\n",
       "    </tr>\n",
       "    <tr>\n",
       "      <th>6297</th>\n",
       "      <td>1903</td>\n",
       "      <td>Unknown</td>\n",
       "      <td>Diving</td>\n",
       "      <td>Unprovoked</td>\n",
       "      <td>1</td>\n",
       "    </tr>\n",
       "    <tr>\n",
       "      <th>6298</th>\n",
       "      <td>1903</td>\n",
       "      <td>Unknown</td>\n",
       "      <td>Pearl diving</td>\n",
       "      <td>Unprovoked</td>\n",
       "      <td>1</td>\n",
       "    </tr>\n",
       "    <tr>\n",
       "      <th>6299</th>\n",
       "      <td>1905</td>\n",
       "      <td>Unknown</td>\n",
       "      <td>Swimming</td>\n",
       "      <td>Unprovoked</td>\n",
       "      <td>1</td>\n",
       "    </tr>\n",
       "    <tr>\n",
       "      <th>6301</th>\n",
       "      <td>1853</td>\n",
       "      <td>Unknown</td>\n",
       "      <td>Swimming</td>\n",
       "      <td>Unprovoked</td>\n",
       "      <td>1</td>\n",
       "    </tr>\n",
       "  </tbody>\n",
       "</table>\n",
       "<p>5325 rows × 5 columns</p>\n",
       "</div>"
      ],
      "text/plain": [
       "      Year    Month      Activity        Type Fatal\n",
       "0     2018      Jun      Paddling  Unprovoked     0\n",
       "1     2018      Jun      Standing  Unprovoked     0\n",
       "2     2018      Jun       Surfing     Invalid     0\n",
       "3     2018      Jun       Surfing  Unprovoked     0\n",
       "4     2018      Jun   Free diving    Provoked     0\n",
       "...    ...      ...           ...         ...   ...\n",
       "6296  1906  Unknown      Swimming  Unprovoked     1\n",
       "6297  1903  Unknown        Diving  Unprovoked     1\n",
       "6298  1903  Unknown  Pearl diving  Unprovoked     1\n",
       "6299  1905  Unknown      Swimming  Unprovoked     1\n",
       "6301  1853  Unknown      Swimming  Unprovoked     1\n",
       "\n",
       "[5325 rows x 5 columns]"
      ]
     },
     "execution_count": 66,
     "metadata": {},
     "output_type": "execute_result"
    }
   ],
   "source": [
    "sharks_clean"
   ]
  },
  {
   "cell_type": "markdown",
   "id": "impaired-wrestling",
   "metadata": {},
   "source": [
    "Guardaré mi tablita ya limpia :)"
   ]
  },
  {
   "cell_type": "code",
   "execution_count": 67,
   "id": "polished-street",
   "metadata": {},
   "outputs": [],
   "source": [
    "sharks_clean.to_csv('attacks_data_clean.csv')"
   ]
  },
  {
   "cell_type": "markdown",
   "id": "forbidden-correspondence",
   "metadata": {},
   "source": [
    "# Sección de preguntas y respuestas:"
   ]
  },
  {
   "cell_type": "markdown",
   "id": "iraqi-justice",
   "metadata": {},
   "source": [
    "¿Como fueron los ataques?"
   ]
  },
  {
   "cell_type": "code",
   "execution_count": 68,
   "id": "tired-things",
   "metadata": {},
   "outputs": [
    {
     "data": {
      "text/plain": [
       "<AxesSubplot:>"
      ]
     },
     "execution_count": 68,
     "metadata": {},
     "output_type": "execute_result"
    },
    {
     "data": {
      "image/png": "[encoded data removed]",
      "text/plain": [
       "<Figure size 432x288 with 1 Axes>"
      ]
     },
     "metadata": {
      "needs_background": "light"
     },
     "output_type": "display_data"
    }
   ],
   "source": [
    "sharks[\"Type\"].value_counts().plot(kind = \"barh\")"
   ]
  },
  {
   "cell_type": "markdown",
   "id": "eleven-allocation",
   "metadata": {},
   "source": [
    "Ataques"
   ]
  },
  {
   "cell_type": "code",
   "execution_count": 69,
   "id": "mobile-angel",
   "metadata": {},
   "outputs": [
    {
     "data": {
      "text/plain": [
       "<AxesSubplot:>"
      ]
     },
     "execution_count": 69,
     "metadata": {},
     "output_type": "execute_result"
    },
    {
     "data": {
      "image/png": "[encoded data removed]",
      "text/plain": [
       "<Figure size 432x288 with 1 Axes>"
      ]
     },
     "metadata": {
      "needs_background": "light"
     },
     "output_type": "display_data"
    }
   ],
   "source": [
    "sharks[\"Year\"].value_counts().nlargest(5).plot(kind=\"bar\")"
   ]
  },
  {
   "cell_type": "code",
   "execution_count": null,
   "id": "turkish-apartment",
   "metadata": {},
   "outputs": [],
   "source": []
  }
 ],
 "metadata": {
  "kernelspec": {
   "display_name": "Python 3",
   "language": "python",
   "name": "python3"
  },
  "language_info": {
   "codemirror_mode": {
    "name": "ipython",
    "version": 3
   },
   "file_extension": ".py",
   "mimetype": "text/x-python",
   "name": "python",
   "nbconvert_exporter": "python",
   "pygments_lexer": "ipython3",
   "version": "3.9.2"
  }
 },
 "nbformat": 4,
 "nbformat_minor": 5
}
